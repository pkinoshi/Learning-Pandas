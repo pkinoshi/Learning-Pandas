{
 "cells": [
  {
   "cell_type": "code",
   "execution_count": 1,
   "metadata": {},
   "outputs": [],
   "source": [
    "import pandas as pd\n",
    "import numpy as np"
   ]
  },
  {
   "cell_type": "code",
   "execution_count": 111,
   "metadata": {},
   "outputs": [],
   "source": [
    "# Visualization Libraries\n",
    "%matplotlib inline\n",
    "import matplotlib.pyplot as plt\n",
    "import seaborn as sns"
   ]
  },
  {
   "cell_type": "code",
   "execution_count": 112,
   "metadata": {},
   "outputs": [],
   "source": [
    "# Viewing  plot's appearance\n",
    "%config InlineBackend.figure_format='retina'\n",
    "sns.set() # Revert to matplotlib defaults\n",
    "plt.rcParams['figure.figsize'] = (9,6)\n",
    "plt.rcParams['axes.labelpad'] = 10\n",
    "sns.set_style(\"darkgrid\")"
   ]
  },
  {
   "cell_type": "code",
   "execution_count": 144,
   "metadata": {},
   "outputs": [],
   "source": [
    "jan = pd.read_csv(\"jan.csv\")\n",
    "feb = pd.read_csv(\"feb.csv\")\n",
    "mar = pd.read_csv(\"mar.csv\")\n",
    "apr = pd.read_csv(\"apr.csv\")\n",
    "may = pd.read_csv(\"may.csv\")\n",
    "jun  = pd.read_csv(\"jun.csv\")"
   ]
  },
  {
   "cell_type": "code",
   "execution_count": 145,
   "metadata": {},
   "outputs": [],
   "source": [
    "jan_df = pd.DataFrame(jan)\n",
    "feb_df = pd.DataFrame(feb)\n",
    "mar_df = pd.DataFrame(mar)\n",
    "apr_df = pd.DataFrame(apr)\n",
    "may_df = pd.DataFrame(may)\n",
    "jun_df = pd.DataFrame(jun)"
   ]
  },
  {
   "cell_type": "code",
   "execution_count": 146,
   "metadata": {},
   "outputs": [
    {
     "data": {
      "text/plain": [
       "((583985, 29),\n",
       " (533175, 29),\n",
       " (632074, 29),\n",
       " (612023, 29),\n",
       " (636390, 29),\n",
       " (636691, 29))"
      ]
     },
     "execution_count": 146,
     "metadata": {},
     "output_type": "execute_result"
    }
   ],
   "source": [
    "jan_df.shape, feb_df.shape, mar_df.shape, apr_df.shape, may_df.shape, jun_df.shape"
   ]
  },
  {
   "cell_type": "code",
   "execution_count": 147,
   "metadata": {},
   "outputs": [],
   "source": [
    "df = pd.concat([jan_df, feb_df, mar_df, apr_df, may_df, jun_df])"
   ]
  },
  {
   "cell_type": "code",
   "execution_count": 148,
   "metadata": {},
   "outputs": [
    {
     "data": {
      "text/plain": [
       "Index(['YEAR', 'QUARTER', 'MONTH', 'OP_UNIQUE_CARRIER',\n",
       "       'OP_CARRIER_AIRLINE_ID', 'TAIL_NUM', 'OP_CARRIER_FL_NUM',\n",
       "       'ORIGIN_CITY_NAME', 'ORIGIN_STATE_NM', 'DEST_CITY_MARKET_ID', 'DEST',\n",
       "       'DEST_CITY_NAME', 'DEST_STATE_NM', 'DEP_DELAY_NEW', 'TAXI_OUT',\n",
       "       'WHEELS_OFF', 'WHEELS_ON', 'TAXI_IN', 'DIVERTED', 'AIR_TIME', 'FLIGHTS',\n",
       "       'DISTANCE', 'CARRIER_DELAY', 'WEATHER_DELAY', 'NAS_DELAY',\n",
       "       'SECURITY_DELAY', 'LATE_AIRCRAFT_DELAY', 'DIV_AIRPORT_LANDINGS',\n",
       "       'Unnamed: 28'],\n",
       "      dtype='object')"
      ]
     },
     "execution_count": 148,
     "metadata": {},
     "output_type": "execute_result"
    }
   ],
   "source": [
    "df.columns"
   ]
  },
  {
   "cell_type": "code",
   "execution_count": 149,
   "metadata": {},
   "outputs": [],
   "source": [
    "df.drop(columns=['Unnamed: 28'], inplace=True)"
   ]
  },
  {
   "cell_type": "code",
   "execution_count": 150,
   "metadata": {},
   "outputs": [],
   "source": [
    "df.columns = df.columns.str.lower()"
   ]
  },
  {
   "cell_type": "code",
   "execution_count": 151,
   "metadata": {},
   "outputs": [
    {
     "data": {
      "text/plain": [
       "array([1, 2, 3, 4, 5, 6], dtype=int64)"
      ]
     },
     "execution_count": 151,
     "metadata": {},
     "output_type": "execute_result"
    }
   ],
   "source": [
    "df.month.unique()"
   ]
  },
  {
   "cell_type": "code",
   "execution_count": 152,
   "metadata": {},
   "outputs": [
    {
     "data": {
      "text/plain": [
       "array([1, 2], dtype=int64)"
      ]
     },
     "execution_count": 152,
     "metadata": {},
     "output_type": "execute_result"
    }
   ],
   "source": [
    "df.quarter.unique()"
   ]
  },
  {
   "cell_type": "code",
   "execution_count": 153,
   "metadata": {},
   "outputs": [
    {
     "data": {
      "text/html": [
       "<div>\n",
       "<style scoped>\n",
       "    .dataframe tbody tr th:only-of-type {\n",
       "        vertical-align: middle;\n",
       "    }\n",
       "\n",
       "    .dataframe tbody tr th {\n",
       "        vertical-align: top;\n",
       "    }\n",
       "\n",
       "    .dataframe thead th {\n",
       "        text-align: right;\n",
       "    }\n",
       "</style>\n",
       "<table border=\"1\" class=\"dataframe\">\n",
       "  <thead>\n",
       "    <tr style=\"text-align: right;\">\n",
       "      <th></th>\n",
       "      <th>year</th>\n",
       "      <th>quarter</th>\n",
       "      <th>month</th>\n",
       "      <th>op_unique_carrier</th>\n",
       "      <th>op_carrier_airline_id</th>\n",
       "      <th>tail_num</th>\n",
       "      <th>op_carrier_fl_num</th>\n",
       "      <th>origin_city_name</th>\n",
       "      <th>origin_state_nm</th>\n",
       "      <th>dest_city_market_id</th>\n",
       "      <th>...</th>\n",
       "      <th>diverted</th>\n",
       "      <th>air_time</th>\n",
       "      <th>flights</th>\n",
       "      <th>distance</th>\n",
       "      <th>carrier_delay</th>\n",
       "      <th>weather_delay</th>\n",
       "      <th>nas_delay</th>\n",
       "      <th>security_delay</th>\n",
       "      <th>late_aircraft_delay</th>\n",
       "      <th>div_airport_landings</th>\n",
       "    </tr>\n",
       "  </thead>\n",
       "  <tbody>\n",
       "    <tr>\n",
       "      <th>0</th>\n",
       "      <td>2019</td>\n",
       "      <td>1</td>\n",
       "      <td>1</td>\n",
       "      <td>9E</td>\n",
       "      <td>20363</td>\n",
       "      <td>N195PQ</td>\n",
       "      <td>5121</td>\n",
       "      <td>Knoxville, TN</td>\n",
       "      <td>Tennessee</td>\n",
       "      <td>30397</td>\n",
       "      <td>...</td>\n",
       "      <td>0.0</td>\n",
       "      <td>36.0</td>\n",
       "      <td>1.0</td>\n",
       "      <td>152.0</td>\n",
       "      <td>0.0</td>\n",
       "      <td>0.0</td>\n",
       "      <td>0.0</td>\n",
       "      <td>0.0</td>\n",
       "      <td>25.0</td>\n",
       "      <td>0</td>\n",
       "    </tr>\n",
       "    <tr>\n",
       "      <th>1</th>\n",
       "      <td>2019</td>\n",
       "      <td>1</td>\n",
       "      <td>1</td>\n",
       "      <td>9E</td>\n",
       "      <td>20363</td>\n",
       "      <td>N919XJ</td>\n",
       "      <td>5121</td>\n",
       "      <td>Knoxville, TN</td>\n",
       "      <td>Tennessee</td>\n",
       "      <td>30397</td>\n",
       "      <td>...</td>\n",
       "      <td>0.0</td>\n",
       "      <td>38.0</td>\n",
       "      <td>1.0</td>\n",
       "      <td>152.0</td>\n",
       "      <td>0.0</td>\n",
       "      <td>0.0</td>\n",
       "      <td>12.0</td>\n",
       "      <td>0.0</td>\n",
       "      <td>70.0</td>\n",
       "      <td>0</td>\n",
       "    </tr>\n",
       "    <tr>\n",
       "      <th>2</th>\n",
       "      <td>2019</td>\n",
       "      <td>1</td>\n",
       "      <td>1</td>\n",
       "      <td>9E</td>\n",
       "      <td>20363</td>\n",
       "      <td>N316PQ</td>\n",
       "      <td>5122</td>\n",
       "      <td>Atlanta, GA</td>\n",
       "      <td>Georgia</td>\n",
       "      <td>34783</td>\n",
       "      <td>...</td>\n",
       "      <td>0.0</td>\n",
       "      <td>84.0</td>\n",
       "      <td>1.0</td>\n",
       "      <td>563.0</td>\n",
       "      <td>NaN</td>\n",
       "      <td>NaN</td>\n",
       "      <td>NaN</td>\n",
       "      <td>NaN</td>\n",
       "      <td>NaN</td>\n",
       "      <td>0</td>\n",
       "    </tr>\n",
       "    <tr>\n",
       "      <th>3</th>\n",
       "      <td>2019</td>\n",
       "      <td>1</td>\n",
       "      <td>1</td>\n",
       "      <td>9E</td>\n",
       "      <td>20363</td>\n",
       "      <td>N325PQ</td>\n",
       "      <td>5122</td>\n",
       "      <td>Atlanta, GA</td>\n",
       "      <td>Georgia</td>\n",
       "      <td>34783</td>\n",
       "      <td>...</td>\n",
       "      <td>0.0</td>\n",
       "      <td>85.0</td>\n",
       "      <td>1.0</td>\n",
       "      <td>563.0</td>\n",
       "      <td>NaN</td>\n",
       "      <td>NaN</td>\n",
       "      <td>NaN</td>\n",
       "      <td>NaN</td>\n",
       "      <td>NaN</td>\n",
       "      <td>0</td>\n",
       "    </tr>\n",
       "  </tbody>\n",
       "</table>\n",
       "<p>4 rows × 28 columns</p>\n",
       "</div>"
      ],
      "text/plain": [
       "   year  quarter  month op_unique_carrier  op_carrier_airline_id tail_num  \\\n",
       "0  2019        1      1                9E                  20363   N195PQ   \n",
       "1  2019        1      1                9E                  20363   N919XJ   \n",
       "2  2019        1      1                9E                  20363   N316PQ   \n",
       "3  2019        1      1                9E                  20363   N325PQ   \n",
       "\n",
       "   op_carrier_fl_num origin_city_name origin_state_nm  dest_city_market_id  \\\n",
       "0               5121    Knoxville, TN       Tennessee                30397   \n",
       "1               5121    Knoxville, TN       Tennessee                30397   \n",
       "2               5122      Atlanta, GA         Georgia                34783   \n",
       "3               5122      Atlanta, GA         Georgia                34783   \n",
       "\n",
       "   ... diverted air_time flights  distance  carrier_delay  weather_delay  \\\n",
       "0  ...      0.0     36.0     1.0     152.0            0.0            0.0   \n",
       "1  ...      0.0     38.0     1.0     152.0            0.0            0.0   \n",
       "2  ...      0.0     84.0     1.0     563.0            NaN            NaN   \n",
       "3  ...      0.0     85.0     1.0     563.0            NaN            NaN   \n",
       "\n",
       "   nas_delay  security_delay  late_aircraft_delay  div_airport_landings  \n",
       "0        0.0             0.0                 25.0                     0  \n",
       "1       12.0             0.0                 70.0                     0  \n",
       "2        NaN             NaN                  NaN                     0  \n",
       "3        NaN             NaN                  NaN                     0  \n",
       "\n",
       "[4 rows x 28 columns]"
      ]
     },
     "execution_count": 153,
     "metadata": {},
     "output_type": "execute_result"
    }
   ],
   "source": [
    "df.head(4)"
   ]
  },
  {
   "cell_type": "code",
   "execution_count": 154,
   "metadata": {},
   "outputs": [
    {
     "data": {
      "text/plain": [
       "WN    330225\n",
       "Name: op_unique_carrier, dtype: int64"
      ]
     },
     "execution_count": 154,
     "metadata": {},
     "output_type": "execute_result"
    }
   ],
   "source": [
    "# What airline had the most number of flights in the first quarter of 2019?\n",
    "df[df['quarter']==1]\\\n",
    "                    ['op_unique_carrier'].\\\n",
    "                     value_counts().nlargest(1)"
   ]
  },
  {
   "cell_type": "code",
   "execution_count": 155,
   "metadata": {},
   "outputs": [
    {
     "name": "stdout",
     "output_type": "stream",
     "text": [
      "There was a total of 3634338 airline travels in the first half of 2019.\n"
     ]
    }
   ],
   "source": [
    "# Total number of airline travels in the first half of 2019\n",
    "print(\"There was a total of \" + str(df.shape[0]) + \" airline travels in the first half of 2019.\")"
   ]
  },
  {
   "cell_type": "code",
   "execution_count": 156,
   "metadata": {},
   "outputs": [
    {
     "data": {
      "text/plain": [
       "1154951.7333333334"
      ]
     },
     "execution_count": 156,
     "metadata": {},
     "output_type": "execute_result"
    }
   ],
   "source": [
    "#What is the total airtime by all airlines in may 2019?\n",
    "(df[df['month']==5]['air_time'].sum())/60"
   ]
  },
  {
   "cell_type": "code",
   "execution_count": 157,
   "metadata": {},
   "outputs": [
    {
     "data": {
      "text/plain": [
       "dest_city_name\n",
       "Chicago, IL    32821\n",
       "Name: air_time, dtype: int64"
      ]
     },
     "execution_count": 157,
     "metadata": {},
     "output_type": "execute_result"
    }
   ],
   "source": [
    "# What city do you consider the busiest city in april 2019?\n",
    "df[df['month']==4].groupby('dest_city_name')['air_time'].count().nlargest(1)"
   ]
  },
  {
   "cell_type": "code",
   "execution_count": 158,
   "metadata": {},
   "outputs": [
    {
     "data": {
      "text/plain": [
       "op_unique_carrier\n",
       "WN    85246573.0\n",
       "Name: distance, dtype: float64"
      ]
     },
     "execution_count": 158,
     "metadata": {},
     "output_type": "execute_result"
    }
   ],
   "source": [
    "# What airline covered the most distance in june 2019?\n",
    "df[df['month']==6].groupby('op_unique_carrier')['distance'].sum().nlargest(1)"
   ]
  },
  {
   "cell_type": "code",
   "execution_count": 159,
   "metadata": {},
   "outputs": [
    {
     "data": {
      "text/plain": [
       "tail_num\n",
       "N934JB    598286.0\n",
       "Name: distance, dtype: float64"
      ]
     },
     "execution_count": 159,
     "metadata": {},
     "output_type": "execute_result"
    }
   ],
   "source": [
    "# What is the tail number of the aircraft that covered the most distance in Q2?\n",
    "df[df['quarter']==2].groupby('tail_num')['distance'].sum().nlargest(1)"
   ]
  },
  {
   "cell_type": "code",
   "execution_count": 160,
   "metadata": {},
   "outputs": [
    {
     "data": {
      "text/plain": [
       "Index(['year', 'quarter', 'month', 'op_unique_carrier',\n",
       "       'op_carrier_airline_id', 'tail_num', 'op_carrier_fl_num',\n",
       "       'origin_city_name', 'origin_state_nm', 'dest_city_market_id', 'dest',\n",
       "       'dest_city_name', 'dest_state_nm', 'dep_delay_new', 'taxi_out',\n",
       "       'wheels_off', 'wheels_on', 'taxi_in', 'diverted', 'air_time', 'flights',\n",
       "       'distance', 'carrier_delay', 'weather_delay', 'nas_delay',\n",
       "       'security_delay', 'late_aircraft_delay', 'div_airport_landings'],\n",
       "      dtype='object')"
      ]
     },
     "execution_count": 160,
     "metadata": {},
     "output_type": "execute_result"
    }
   ],
   "source": [
    "df.columns"
   ]
  },
  {
   "cell_type": "code",
   "execution_count": 166,
   "metadata": {},
   "outputs": [
    {
     "data": {
      "text/plain": [
       "dest_city_name\n",
       "Chicago, IL    104833\n",
       "Name: dep_delay_new, dtype: int64"
      ]
     },
     "execution_count": 166,
     "metadata": {},
     "output_type": "execute_result"
    }
   ],
   "source": [
    "# Which state recorded the most delays in the 2nd quarter of 2019?\n",
    "df[df['quarter']==2].groupby('dest_city_name')\\\n",
    "                     ['dep_delay_new'].count().nlargest(1)"
   ]
  },
  {
   "cell_type": "code",
   "execution_count": 171,
   "metadata": {},
   "outputs": [
    {
     "data": {
      "text/plain": [
       "19.511121323529412"
      ]
     },
     "execution_count": 171,
     "metadata": {},
     "output_type": "execute_result"
    }
   ],
   "source": [
    "#What is the daily average Taxi-out time in New York in February 2019 ?\n",
    "df_feb = df[df['month']==2]\n",
    "df_feb[df_feb['dest_city_name']=='New York, NY']['taxi_out'].mean()"
   ]
  },
  {
   "cell_type": "code",
   "execution_count": 175,
   "metadata": {},
   "outputs": [
    {
     "data": {
      "text/plain": [
       "72978"
      ]
     },
     "execution_count": 175,
     "metadata": {},
     "output_type": "execute_result"
    }
   ],
   "source": [
    "# How many airlines with New York destinations were diverted in Q1 2019?\n",
    "df[df['quarter']==1].groupby('dest_city_name')['div_airport_landings'].count().loc['New York, NY']"
   ]
  },
  {
   "cell_type": "code",
   "execution_count": 178,
   "metadata": {},
   "outputs": [
    {
     "data": {
      "text/plain": [
       "0         0.0\n",
       "1         0.0\n",
       "2         NaN\n",
       "3         NaN\n",
       "4         NaN\n",
       "         ... \n",
       "636686    NaN\n",
       "636687    NaN\n",
       "636688    NaN\n",
       "636689    0.0\n",
       "636690    NaN\n",
       "Name: weather_delay, Length: 3634338, dtype: float64"
      ]
     },
     "execution_count": 178,
     "metadata": {},
     "output_type": "execute_result"
    }
   ],
   "source": [
    "df['weather_delay']"
   ]
  },
  {
   "cell_type": "code",
   "execution_count": null,
   "metadata": {},
   "outputs": [],
   "source": []
  }
 ],
 "metadata": {
  "kernelspec": {
   "display_name": "Python 3",
   "language": "python",
   "name": "python3"
  },
  "language_info": {
   "codemirror_mode": {
    "name": "ipython",
    "version": 3
   },
   "file_extension": ".py",
   "mimetype": "text/x-python",
   "name": "python",
   "nbconvert_exporter": "python",
   "pygments_lexer": "ipython3",
   "version": "3.7.6"
  }
 },
 "nbformat": 4,
 "nbformat_minor": 4
}
